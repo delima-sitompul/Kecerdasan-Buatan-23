{
  "nbformat": 4,
  "nbformat_minor": 0,
  "metadata": {
    "colab": {
      "provenance": []
    },
    "kernelspec": {
      "name": "python3",
      "display_name": "Python 3"
    },
    "language_info": {
      "name": "python"
    }
  },
  "cells": [
    {
      "cell_type": "markdown",
      "source": [
        "##**POSTTEST 2**"
      ],
      "metadata": {
        "id": "e6J7bFa7kye_"
      }
    },
    {
      "cell_type": "markdown",
      "source": [
        "##Import Library"
      ],
      "metadata": {
        "id": "5qYQWraPsAcQ"
      }
    },
    {
      "cell_type": "code",
      "source": [
        "import pandas as pd\n",
        "import matplotlib.pyplot as plt\n",
        "import seaborn as sns\n",
        "import re"
      ],
      "metadata": {
        "id": "r3CJtb27mNMl"
      },
      "execution_count": 30,
      "outputs": []
    },
    {
      "cell_type": "markdown",
      "source": [
        "##Membaca Dataset  "
      ],
      "metadata": {
        "id": "JnLMTVf1sIRS"
      }
    },
    {
      "cell_type": "code",
      "metadata": {
        "colab": {
          "base_uri": "https://localhost:8080/",
          "height": 206
        },
        "id": "cd133950",
        "outputId": "931aa5c1-8d2d-4244-d61a-a56dd3ec7f3f"
      },
      "source": [
        "df = pd.read_csv('/content/meetup.csv', delimiter=';')\n",
        "df.head()"
      ],
      "execution_count": 33,
      "outputs": [
        {
          "output_type": "execute_result",
          "data": {
            "text/plain": [
              "         date          state             category      time  \\\n",
              "0  20/04/2020  San-Francisco  Technology,business  12:00 AM   \n",
              "1  20/04/2020  San-Francisco  Technology,business   7:00 AM   \n",
              "2  20/04/2020  San-Francisco  Technology,business   7:30 AM   \n",
              "3  20/04/2020  San-Francisco  Technology,business   8:00 AM   \n",
              "4  20/04/2020  San-Francisco  Technology,business   8:00 AM   \n",
              "\n",
              "                    groupname  \\\n",
              "0    Product School Bangalore   \n",
              "1                     SouJava   \n",
              "2  DevOps | CODE Event Series   \n",
              "3   DC Cybersecurity Training   \n",
              "4   DC Cybersecurity Training   \n",
              "\n",
              "                                                name  attendees_count  \\\n",
              "0  Webinar: PM in a Startup Setting by Alexa Prod...                6   \n",
              "1  Live SouJava- Microservice Patterns - Implemen...              119   \n",
              "2                               enterprise:CODE 2020               10   \n",
              "3                                     Certified CISO                4   \n",
              "4                     Certified Ethical Hacker (CEH)                3   \n",
              "\n",
              "   Unnamed: 7  \n",
              "0         NaN  \n",
              "1         NaN  \n",
              "2         NaN  \n",
              "3         NaN  \n",
              "4         NaN  "
            ],
            "text/html": [
              "\n",
              "  <div id=\"df-146a98e8-4d69-4d13-82e4-d39518ba8a24\" class=\"colab-df-container\">\n",
              "    <div>\n",
              "<style scoped>\n",
              "    .dataframe tbody tr th:only-of-type {\n",
              "        vertical-align: middle;\n",
              "    }\n",
              "\n",
              "    .dataframe tbody tr th {\n",
              "        vertical-align: top;\n",
              "    }\n",
              "\n",
              "    .dataframe thead th {\n",
              "        text-align: right;\n",
              "    }\n",
              "</style>\n",
              "<table border=\"1\" class=\"dataframe\">\n",
              "  <thead>\n",
              "    <tr style=\"text-align: right;\">\n",
              "      <th></th>\n",
              "      <th>date</th>\n",
              "      <th>state</th>\n",
              "      <th>category</th>\n",
              "      <th>time</th>\n",
              "      <th>groupname</th>\n",
              "      <th>name</th>\n",
              "      <th>attendees_count</th>\n",
              "      <th>Unnamed: 7</th>\n",
              "    </tr>\n",
              "  </thead>\n",
              "  <tbody>\n",
              "    <tr>\n",
              "      <th>0</th>\n",
              "      <td>20/04/2020</td>\n",
              "      <td>San-Francisco</td>\n",
              "      <td>Technology,business</td>\n",
              "      <td>12:00 AM</td>\n",
              "      <td>Product School Bangalore</td>\n",
              "      <td>Webinar: PM in a Startup Setting by Alexa Prod...</td>\n",
              "      <td>6</td>\n",
              "      <td>NaN</td>\n",
              "    </tr>\n",
              "    <tr>\n",
              "      <th>1</th>\n",
              "      <td>20/04/2020</td>\n",
              "      <td>San-Francisco</td>\n",
              "      <td>Technology,business</td>\n",
              "      <td>7:00 AM</td>\n",
              "      <td>SouJava</td>\n",
              "      <td>Live SouJava- Microservice Patterns - Implemen...</td>\n",
              "      <td>119</td>\n",
              "      <td>NaN</td>\n",
              "    </tr>\n",
              "    <tr>\n",
              "      <th>2</th>\n",
              "      <td>20/04/2020</td>\n",
              "      <td>San-Francisco</td>\n",
              "      <td>Technology,business</td>\n",
              "      <td>7:30 AM</td>\n",
              "      <td>DevOps | CODE Event Series</td>\n",
              "      <td>enterprise:CODE 2020</td>\n",
              "      <td>10</td>\n",
              "      <td>NaN</td>\n",
              "    </tr>\n",
              "    <tr>\n",
              "      <th>3</th>\n",
              "      <td>20/04/2020</td>\n",
              "      <td>San-Francisco</td>\n",
              "      <td>Technology,business</td>\n",
              "      <td>8:00 AM</td>\n",
              "      <td>DC Cybersecurity Training</td>\n",
              "      <td>Certified CISO</td>\n",
              "      <td>4</td>\n",
              "      <td>NaN</td>\n",
              "    </tr>\n",
              "    <tr>\n",
              "      <th>4</th>\n",
              "      <td>20/04/2020</td>\n",
              "      <td>San-Francisco</td>\n",
              "      <td>Technology,business</td>\n",
              "      <td>8:00 AM</td>\n",
              "      <td>DC Cybersecurity Training</td>\n",
              "      <td>Certified Ethical Hacker (CEH)</td>\n",
              "      <td>3</td>\n",
              "      <td>NaN</td>\n",
              "    </tr>\n",
              "  </tbody>\n",
              "</table>\n",
              "</div>\n",
              "    <div class=\"colab-df-buttons\">\n",
              "\n",
              "  <div class=\"colab-df-container\">\n",
              "    <button class=\"colab-df-convert\" onclick=\"convertToInteractive('df-146a98e8-4d69-4d13-82e4-d39518ba8a24')\"\n",
              "            title=\"Convert this dataframe to an interactive table.\"\n",
              "            style=\"display:none;\">\n",
              "\n",
              "  <svg xmlns=\"http://www.w3.org/2000/svg\" height=\"24px\" viewBox=\"0 -960 960 960\">\n",
              "    <path d=\"M120-120v-720h720v720H120Zm60-500h600v-160H180v160Zm220 220h160v-160H400v160Zm0 220h160v-160H400v160ZM180-400h160v-160H180v160Zm440 0h160v-160H620v160ZM180-180h160v-160H180v160Zm440 0h160v-160H620v160Z\"/>\n",
              "  </svg>\n",
              "    </button>\n",
              "\n",
              "  <style>\n",
              "    .colab-df-container {\n",
              "      display:flex;\n",
              "      gap: 12px;\n",
              "    }\n",
              "\n",
              "    .colab-df-convert {\n",
              "      background-color: #E8F0FE;\n",
              "      border: none;\n",
              "      border-radius: 50%;\n",
              "      cursor: pointer;\n",
              "      display: none;\n",
              "      fill: #1967D2;\n",
              "      height: 32px;\n",
              "      padding: 0 0 0 0;\n",
              "      width: 32px;\n",
              "    }\n",
              "\n",
              "    .colab-df-convert:hover {\n",
              "      background-color: #E2EBFA;\n",
              "      box-shadow: 0px 1px 2px rgba(60, 64, 67, 0.3), 0px 1px 3px 1px rgba(60, 64, 67, 0.15);\n",
              "      fill: #174EA6;\n",
              "    }\n",
              "\n",
              "    .colab-df-buttons div {\n",
              "      margin-bottom: 4px;\n",
              "    }\n",
              "\n",
              "    [theme=dark] .colab-df-convert {\n",
              "      background-color: #3B4455;\n",
              "      fill: #D2E3FC;\n",
              "    }\n",
              "\n",
              "    [theme=dark] .colab-df-convert:hover {\n",
              "      background-color: #434B5C;\n",
              "      box-shadow: 0px 1px 3px 1px rgba(0, 0, 0, 0.15);\n",
              "      filter: drop-shadow(0px 1px 2px rgba(0, 0, 0, 0.3));\n",
              "      fill: #FFFFFF;\n",
              "    }\n",
              "  </style>\n",
              "\n",
              "    <script>\n",
              "      const buttonEl =\n",
              "        document.querySelector('#df-146a98e8-4d69-4d13-82e4-d39518ba8a24 button.colab-df-convert');\n",
              "      buttonEl.style.display =\n",
              "        google.colab.kernel.accessAllowed ? 'block' : 'none';\n",
              "\n",
              "      async function convertToInteractive(key) {\n",
              "        const element = document.querySelector('#df-146a98e8-4d69-4d13-82e4-d39518ba8a24');\n",
              "        const dataTable =\n",
              "          await google.colab.kernel.invokeFunction('convertToInteractive',\n",
              "                                                    [key], {});\n",
              "        if (!dataTable) return;\n",
              "\n",
              "        const docLinkHtml = 'Like what you see? Visit the ' +\n",
              "          '<a target=\"_blank\" href=https://colab.research.google.com/notebooks/data_table.ipynb>data table notebook</a>'\n",
              "          + ' to learn more about interactive tables.';\n",
              "        element.innerHTML = '';\n",
              "        dataTable['output_type'] = 'display_data';\n",
              "        await google.colab.output.renderOutput(dataTable, element);\n",
              "        const docLink = document.createElement('div');\n",
              "        docLink.innerHTML = docLinkHtml;\n",
              "        element.appendChild(docLink);\n",
              "      }\n",
              "    </script>\n",
              "  </div>\n",
              "\n",
              "\n",
              "    <div id=\"df-349ed60d-e59b-4203-821d-d8fca31b0ad5\">\n",
              "      <button class=\"colab-df-quickchart\" onclick=\"quickchart('df-349ed60d-e59b-4203-821d-d8fca31b0ad5')\"\n",
              "                title=\"Suggest charts\"\n",
              "                style=\"display:none;\">\n",
              "\n",
              "<svg xmlns=\"http://www.w3.org/2000/svg\" height=\"24px\"viewBox=\"0 0 24 24\"\n",
              "     width=\"24px\">\n",
              "    <g>\n",
              "        <path d=\"M19 3H5c-1.1 0-2 .9-2 2v14c0 1.1.9 2 2 2h14c1.1 0 2-.9 2-2V5c0-1.1-.9-2-2-2zM9 17H7v-7h2v7zm4 0h-2V7h2v10zm4 0h-2v-4h2v4z\"/>\n",
              "    </g>\n",
              "</svg>\n",
              "      </button>\n",
              "\n",
              "<style>\n",
              "  .colab-df-quickchart {\n",
              "      --bg-color: #E8F0FE;\n",
              "      --fill-color: #1967D2;\n",
              "      --hover-bg-color: #E2EBFA;\n",
              "      --hover-fill-color: #174EA6;\n",
              "      --disabled-fill-color: #AAA;\n",
              "      --disabled-bg-color: #DDD;\n",
              "  }\n",
              "\n",
              "  [theme=dark] .colab-df-quickchart {\n",
              "      --bg-color: #3B4455;\n",
              "      --fill-color: #D2E3FC;\n",
              "      --hover-bg-color: #434B5C;\n",
              "      --hover-fill-color: #FFFFFF;\n",
              "      --disabled-bg-color: #3B4455;\n",
              "      --disabled-fill-color: #666;\n",
              "  }\n",
              "\n",
              "  .colab-df-quickchart {\n",
              "    background-color: var(--bg-color);\n",
              "    border: none;\n",
              "    border-radius: 50%;\n",
              "    cursor: pointer;\n",
              "    display: none;\n",
              "    fill: var(--fill-color);\n",
              "    height: 32px;\n",
              "    padding: 0;\n",
              "    width: 32px;\n",
              "  }\n",
              "\n",
              "  .colab-df-quickchart:hover {\n",
              "    background-color: var(--hover-bg-color);\n",
              "    box-shadow: 0 1px 2px rgba(60, 64, 67, 0.3), 0 1px 3px 1px rgba(60, 64, 67, 0.15);\n",
              "    fill: var(--button-hover-fill-color);\n",
              "  }\n",
              "\n",
              "  .colab-df-quickchart-complete:disabled,\n",
              "  .colab-df-quickchart-complete:disabled:hover {\n",
              "    background-color: var(--disabled-bg-color);\n",
              "    fill: var(--disabled-fill-color);\n",
              "    box-shadow: none;\n",
              "  }\n",
              "\n",
              "  .colab-df-spinner {\n",
              "    border: 2px solid var(--fill-color);\n",
              "    border-color: transparent;\n",
              "    border-bottom-color: var(--fill-color);\n",
              "    animation:\n",
              "      spin 1s steps(1) infinite;\n",
              "  }\n",
              "\n",
              "  @keyframes spin {\n",
              "    0% {\n",
              "      border-color: transparent;\n",
              "      border-bottom-color: var(--fill-color);\n",
              "      border-left-color: var(--fill-color);\n",
              "    }\n",
              "    20% {\n",
              "      border-color: transparent;\n",
              "      border-left-color: var(--fill-color);\n",
              "      border-top-color: var(--fill-color);\n",
              "    }\n",
              "    30% {\n",
              "      border-color: transparent;\n",
              "      border-left-color: var(--fill-color);\n",
              "      border-top-color: var(--fill-color);\n",
              "      border-right-color: var(--fill-color);\n",
              "    }\n",
              "    40% {\n",
              "      border-color: transparent;\n",
              "      border-right-color: var(--fill-color);\n",
              "      border-top-color: var(--fill-color);\n",
              "    }\n",
              "    60% {\n",
              "      border-color: transparent;\n",
              "      border-right-color: var(--fill-color);\n",
              "    }\n",
              "    80% {\n",
              "      border-color: transparent;\n",
              "      border-right-color: var(--fill-color);\n",
              "      border-bottom-color: var(--fill-color);\n",
              "    }\n",
              "    90% {\n",
              "      border-color: transparent;\n",
              "      border-bottom-color: var(--fill-color);\n",
              "    }\n",
              "  }\n",
              "</style>\n",
              "\n",
              "      <script>\n",
              "        async function quickchart(key) {\n",
              "          const quickchartButtonEl =\n",
              "            document.querySelector('#' + key + ' button');\n",
              "          quickchartButtonEl.disabled = true;  // To prevent multiple clicks.\n",
              "          quickchartButtonEl.classList.add('colab-df-spinner');\n",
              "          try {\n",
              "            const charts = await google.colab.kernel.invokeFunction(\n",
              "                'suggestCharts', [key], {});\n",
              "          } catch (error) {\n",
              "            console.error('Error during call to suggestCharts:', error);\n",
              "          }\n",
              "          quickchartButtonEl.classList.remove('colab-df-spinner');\n",
              "          quickchartButtonEl.classList.add('colab-df-quickchart-complete');\n",
              "        }\n",
              "        (() => {\n",
              "          let quickchartButtonEl =\n",
              "            document.querySelector('#df-349ed60d-e59b-4203-821d-d8fca31b0ad5 button');\n",
              "          quickchartButtonEl.style.display =\n",
              "            google.colab.kernel.accessAllowed ? 'block' : 'none';\n",
              "        })();\n",
              "      </script>\n",
              "    </div>\n",
              "\n",
              "    </div>\n",
              "  </div>\n"
            ],
            "application/vnd.google.colaboratory.intrinsic+json": {
              "type": "dataframe",
              "variable_name": "df",
              "summary": "{\n  \"name\": \"df\",\n  \"rows\": 184,\n  \"fields\": [\n    {\n      \"column\": \"date\",\n      \"properties\": {\n        \"dtype\": \"object\",\n        \"num_unique_values\": 10,\n        \"samples\": [\n          \"29/04/2020\",\n          \"21/04/2020\",\n          \"26/04/2020\"\n        ],\n        \"semantic_type\": \"\",\n        \"description\": \"\"\n      }\n    },\n    {\n      \"column\": \"state\",\n      \"properties\": {\n        \"dtype\": \"category\",\n        \"num_unique_values\": 1,\n        \"samples\": [\n          \"San-Francisco\"\n        ],\n        \"semantic_type\": \"\",\n        \"description\": \"\"\n      }\n    },\n    {\n      \"column\": \"category\",\n      \"properties\": {\n        \"dtype\": \"category\",\n        \"num_unique_values\": 1,\n        \"samples\": [\n          \"Technology,business\"\n        ],\n        \"semantic_type\": \"\",\n        \"description\": \"\"\n      }\n    },\n    {\n      \"column\": \"time\",\n      \"properties\": {\n        \"dtype\": \"object\",\n        \"num_unique_values\": 34,\n        \"samples\": [\n          \"2:00 PM\"\n        ],\n        \"semantic_type\": \"\",\n        \"description\": \"\"\n      }\n    },\n    {\n      \"column\": \"groupname\",\n      \"properties\": {\n        \"dtype\": \"string\",\n        \"num_unique_values\": 153,\n        \"samples\": [\n          \"VR/AR Association - Silicon Valley Chapter\"\n        ],\n        \"semantic_type\": \"\",\n        \"description\": \"\"\n      }\n    },\n    {\n      \"column\": \"name\",\n      \"properties\": {\n        \"dtype\": \"string\",\n        \"num_unique_values\": 178,\n        \"samples\": [\n          \"Online: Introduction to Machine Learning\"\n        ],\n        \"semantic_type\": \"\",\n        \"description\": \"\"\n      }\n    },\n    {\n      \"column\": \"attendees_count\",\n      \"properties\": {\n        \"dtype\": \"number\",\n        \"std\": 29,\n        \"min\": 1,\n        \"max\": 157,\n        \"num_unique_values\": 59,\n        \"samples\": [\n          6\n        ],\n        \"semantic_type\": \"\",\n        \"description\": \"\"\n      }\n    },\n    {\n      \"column\": \"Unnamed: 7\",\n      \"properties\": {\n        \"dtype\": \"number\",\n        \"std\": null,\n        \"min\": null,\n        \"max\": null,\n        \"num_unique_values\": 0,\n        \"samples\": [],\n        \"semantic_type\": \"\",\n        \"description\": \"\"\n      }\n    }\n  ]\n}"
            }
          },
          "metadata": {},
          "execution_count": 33
        }
      ]
    },
    {
      "cell_type": "markdown",
      "source": [
        "##Menampilkan statistik deskriptif untuk kolom numerik"
      ],
      "metadata": {
        "id": "FFTC-yF5tAKC"
      }
    },
    {
      "cell_type": "code",
      "source": [
        "print(df['attendees_count'].describe())"
      ],
      "metadata": {
        "colab": {
          "base_uri": "https://localhost:8080/"
        },
        "id": "DiI8Nt-JsT1h",
        "outputId": "e20368ba-5f8d-46f5-ac0e-d29ccabaab71"
      },
      "execution_count": 34,
      "outputs": [
        {
          "output_type": "stream",
          "name": "stdout",
          "text": [
            "count    184.000000\n",
            "mean      22.619565\n",
            "std       29.360895\n",
            "min        1.000000\n",
            "25%        5.000000\n",
            "50%       10.000000\n",
            "75%       24.500000\n",
            "max      157.000000\n",
            "Name: attendees_count, dtype: float64\n"
          ]
        }
      ]
    },
    {
      "cell_type": "markdown",
      "source": [
        "##Menampilkan 10 record pertama dari atribut bertipe angka"
      ],
      "metadata": {
        "id": "W0M7ZLIutHz_"
      }
    },
    {
      "cell_type": "code",
      "source": [
        "df['attendees_count'].head(10)"
      ],
      "metadata": {
        "colab": {
          "base_uri": "https://localhost:8080/",
          "height": 398
        },
        "id": "WCffxpGotCbi",
        "outputId": "b3aa829a-d13a-4933-e07f-e7a4faec44dc"
      },
      "execution_count": 35,
      "outputs": [
        {
          "output_type": "execute_result",
          "data": {
            "text/plain": [
              "0      6\n",
              "1    119\n",
              "2     10\n",
              "3      4\n",
              "4      3\n",
              "5      6\n",
              "6     11\n",
              "7     11\n",
              "8      9\n",
              "9      5\n",
              "Name: attendees_count, dtype: int64"
            ],
            "text/html": [
              "<div>\n",
              "<style scoped>\n",
              "    .dataframe tbody tr th:only-of-type {\n",
              "        vertical-align: middle;\n",
              "    }\n",
              "\n",
              "    .dataframe tbody tr th {\n",
              "        vertical-align: top;\n",
              "    }\n",
              "\n",
              "    .dataframe thead th {\n",
              "        text-align: right;\n",
              "    }\n",
              "</style>\n",
              "<table border=\"1\" class=\"dataframe\">\n",
              "  <thead>\n",
              "    <tr style=\"text-align: right;\">\n",
              "      <th></th>\n",
              "      <th>attendees_count</th>\n",
              "    </tr>\n",
              "  </thead>\n",
              "  <tbody>\n",
              "    <tr>\n",
              "      <th>0</th>\n",
              "      <td>6</td>\n",
              "    </tr>\n",
              "    <tr>\n",
              "      <th>1</th>\n",
              "      <td>119</td>\n",
              "    </tr>\n",
              "    <tr>\n",
              "      <th>2</th>\n",
              "      <td>10</td>\n",
              "    </tr>\n",
              "    <tr>\n",
              "      <th>3</th>\n",
              "      <td>4</td>\n",
              "    </tr>\n",
              "    <tr>\n",
              "      <th>4</th>\n",
              "      <td>3</td>\n",
              "    </tr>\n",
              "    <tr>\n",
              "      <th>5</th>\n",
              "      <td>6</td>\n",
              "    </tr>\n",
              "    <tr>\n",
              "      <th>6</th>\n",
              "      <td>11</td>\n",
              "    </tr>\n",
              "    <tr>\n",
              "      <th>7</th>\n",
              "      <td>11</td>\n",
              "    </tr>\n",
              "    <tr>\n",
              "      <th>8</th>\n",
              "      <td>9</td>\n",
              "    </tr>\n",
              "    <tr>\n",
              "      <th>9</th>\n",
              "      <td>5</td>\n",
              "    </tr>\n",
              "  </tbody>\n",
              "</table>\n",
              "</div><br><label><b>dtype:</b> int64</label>"
            ]
          },
          "metadata": {},
          "execution_count": 35
        }
      ]
    },
    {
      "cell_type": "markdown",
      "source": [
        "##Menampilkan informasi umum dataset"
      ],
      "metadata": {
        "id": "3xms39KntSbt"
      }
    },
    {
      "cell_type": "code",
      "source": [
        "jumlah_record, jumlah_atribut = df.shape\n",
        "nama_atribut = df.columns.tolist()\n",
        "jumlah_atribut_angka = df.select_dtypes(include=['int64', 'float64']).shape[1]\n",
        "\n",
        "print(f\"Jumlah Record         : {jumlah_record}\")\n",
        "print(f\"Jumlah Atribut        : {jumlah_atribut}\")\n",
        "print(f\"Nama Semua Atribut    : {nama_atribut}\")\n",
        "print(f\"Jumlah Atribut Angka  : {jumlah_atribut_angka}\")"
      ],
      "metadata": {
        "colab": {
          "base_uri": "https://localhost:8080/"
        },
        "id": "1EhRS5bXtRn2",
        "outputId": "b78ab0c3-a558-461f-892f-b066a6a12ab6"
      },
      "execution_count": 36,
      "outputs": [
        {
          "output_type": "stream",
          "name": "stdout",
          "text": [
            "Jumlah Record         : 184\n",
            "Jumlah Atribut        : 8\n",
            "Nama Semua Atribut    : ['date', 'state', 'category', 'time', 'groupname', 'name', 'attendees_count', 'Unnamed: 7']\n",
            "Jumlah Atribut Angka  : 2\n"
          ]
        }
      ]
    },
    {
      "cell_type": "markdown",
      "source": [
        "##Jumlah label dari semua attribute yang bernilai object"
      ],
      "metadata": {
        "id": "6GnTiwiHtuHh"
      }
    },
    {
      "cell_type": "code",
      "source": [
        "df_object = df.select_dtypes(include=['object'])\n",
        "\n",
        "for kolom in df_object.columns:\n",
        "    if kolom not in ['name', 'time']:\n",
        "        print(f\"\\nAtribut: '{kolom}'\")\n",
        "        print(df[kolom].value_counts())"
      ],
      "metadata": {
        "colab": {
          "base_uri": "https://localhost:8080/"
        },
        "id": "LwaNbd_Tt1TY",
        "outputId": "9152f7e2-7340-4b26-be81-c9a62c29c9fb"
      },
      "execution_count": 41,
      "outputs": [
        {
          "output_type": "stream",
          "name": "stdout",
          "text": [
            "\n",
            "Atribut: 'date'\n",
            "date\n",
            "20/04/2020    81\n",
            "21/04/2020    39\n",
            "23/04/2020    39\n",
            "24/04/2020     9\n",
            "28/04/2020     4\n",
            "25/04/2020     3\n",
            "30/04/2020     3\n",
            "29/04/2020     3\n",
            "26/04/2020     2\n",
            "27/04/2020     1\n",
            "Name: count, dtype: int64\n",
            "\n",
            "Atribut: 'state'\n",
            "state\n",
            "San-Francisco    184\n",
            "Name: count, dtype: int64\n",
            "\n",
            "Atribut: 'category'\n",
            "category\n",
            "Technology,business    184\n",
            "Name: count, dtype: int64\n",
            "\n",
            "Atribut: 'groupname'\n",
            "groupname\n",
            "Product School San Francisco                                   5\n",
            "Microsoft Reactor San Francisco                                4\n",
            "Product School Silicon Valley                                  3\n",
            "IBM Developer SF Bay Area                                      3\n",
            "Startup Founders, Cofounders, Entrepreneurs and Engineers      3\n",
            "                                                              ..\n",
            "Whiteboard Warriors - Silicon Valley                           1\n",
            "Silicon Valley Professional Scrum meetup                       1\n",
            "UX WIZARDS OF THE SOUTH BAY                                    1\n",
            "SF Bay ACM Chapter                                             1\n",
            "SF Bay Area Tech & Entertainment - Workshops & Competitions    1\n",
            "Name: count, Length: 153, dtype: int64\n"
          ]
        }
      ]
    },
    {
      "cell_type": "markdown",
      "source": [
        "##Diagram Batang"
      ],
      "metadata": {
        "id": "Ork7UO7wug_D"
      }
    },
    {
      "cell_type": "code",
      "source": [
        "top_10_groups = df.groupby('groupname')['attendees_count'].sum().sort_values(ascending=False).head(10)\n",
        "plt.figure(figsize=(12, 8))\n",
        "sns.barplot(x=top_10_groups.values, y=top_10_groups.index, palette='viridis')\n",
        "\n",
        "plt.title('Top 10 Grup Meetup dengan Total Peserta Terbanyak', fontsize=16, pad=20)\n",
        "plt.xlabel('Total Jumlah Peserta', fontsize=12)\n",
        "plt.ylabel('Nama Grup', fontsize=12)\n",
        "\n",
        "# Menampilkan grafik\n",
        "plt.tight_layout()\n",
        "plt.show()"
      ],
      "metadata": {
        "colab": {
          "base_uri": "https://localhost:8080/",
          "height": 887
        },
        "id": "HNLLLRDquszV",
        "outputId": "d93bae64-051a-477e-931f-958af440bcdb"
      },
      "execution_count": 42,
      "outputs": [
        {
          "output_type": "stream",
          "name": "stderr",
          "text": [
            "/tmp/ipython-input-3193310619.py:3: FutureWarning: \n",
            "\n",
            "Passing `palette` without assigning `hue` is deprecated and will be removed in v0.14.0. Assign the `y` variable to `hue` and set `legend=False` for the same effect.\n",
            "\n",
            "  sns.barplot(x=top_10_groups.values, y=top_10_groups.index, palette='viridis')\n"
          ]
        },
        {
          "output_type": "display_data",
          "data": {
            "text/plain": [
              "<Figure size 1200x800 with 1 Axes>"
            ],
            "image/png": "[encoded data removed]"
          },
          "metadata": {}
        }
      ]
    },
    {
      "cell_type": "markdown",
      "source": [
        "Grafik di atas menunjukkan **10 grup Meetup dengan jumlah peserta terbanyak.**  \n",
        "\n",
        "- **Advanced KubeFlow AI Meetup (San Francisco, Global)** menempati urutan pertama dengan peserta terbanyak (sekitar 185 orang).  \n",
        "- Disusul oleh **IBM Developer SF Bay Area** dan **San Francisco AI/ML Meetup Group — With RealityEngines.AI**, keduanya memiliki jumlah peserta lebih dari 160 orang.  \n",
        "- Grup seperti **HealthDev**, **Large Scale Scrum (LeSS) in NYC**, dan **SouJava** juga cukup populer dengan peserta di kisaran 120–150 orang.  \n",
        "- Grup lain seperti **BAyPIGgies**, **SF Scala**, dan **Women Who Code Silicon Valley** memiliki jumlah peserta sekitar 100–120 orang.  \n",
        "- Sementara itu, **Startup Founders, Cofounders, Entrepreneurs and Engineers** berada di posisi terakhir dari daftar 10 besar dengan peserta di bawah 100 orang."
      ],
      "metadata": {
        "id": "N__9U0jWzSJq"
      }
    },
    {
      "cell_type": "markdown",
      "source": [
        "##Korelasi menggunakan Headmap"
      ],
      "metadata": {
        "id": "jTUqyA7xxAw_"
      }
    },
    {
      "cell_type": "code",
      "source": [
        "matriks_korelasi = df.select_dtypes(include=['int64', 'float64']).corr()\n",
        "\n",
        "# Membuat heatmap\n",
        "plt.figure(figsize=(8, 6))\n",
        "sns.heatmap(matriks_korelasi, annot=True, cmap='plasma', fmt='.2f', linewidths=.5)\n",
        "\n",
        "# Menambahkan judul\n",
        "plt.title('Heatmap Korelasi Antar Atribut Numerik', fontsize=15, pad=20)\n",
        "\n",
        "# Menampilkan heatmap\n",
        "plt.show()"
      ],
      "metadata": {
        "colab": {
          "base_uri": "https://localhost:8080/",
          "height": 572
        },
        "id": "FojL8WiJvOdQ",
        "outputId": "65d7509a-03e0-495b-edd5-921dcc47133d"
      },
      "execution_count": 44,
      "outputs": [
        {
          "output_type": "display_data",
          "data": {
            "text/plain": [
              "<Figure size 800x600 with 2 Axes>"
            ],
            "image/png": "[encoded data removed]"
          },
          "metadata": {}
        }
      ]
    },
    {
      "cell_type": "code",
      "source": [],
      "metadata": {
        "id": "WgbmrAdc1LOh"
      },
      "execution_count": null,
      "outputs": []
    },
    {
      "cell_type": "markdown",
      "source": [
        "Heatmap di atas menunjukkan korelasi antar atribut numerik dalam dataset.  \n",
        "Terlihat hanya ada satu kolom numerik yang valid, yaitu **`attendees_count`**, sehingga nilai korelasi hanya muncul dengan dirinya sendiri sebesar **1.00**.  \n",
        "\n",
        "Adanya kolom **`Unnamed: 7`** kemungkinan berasal dari kolom kosong atau index tambahan saat proses import data, sehingga tidak memberikan informasi korelasi yang bermakna.  "
      ],
      "metadata": {
        "id": "N70hb0B10huE"
      }
    }
  ]
}